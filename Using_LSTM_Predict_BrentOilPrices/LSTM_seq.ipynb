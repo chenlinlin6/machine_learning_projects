{
 "cells": [
  {
   "cell_type": "markdown",
   "metadata": {},
   "source": [
    "**本项目基于kaggle网站上「布伦特原油价格」数据集预测未来价格走向**  \n",
    "原网站数据链接为[Brent Oil Prices | Kaggle](https://www.kaggle.com/mabusalah/brent-oil-prices/kernels)"
   ]
  },
  {
   "cell_type": "code",
   "execution_count": 1,
   "metadata": {},
   "outputs": [],
   "source": [
    "\n",
    "# %%\n",
    "from IPython.core.interactiveshell import InteractiveShell\n",
    "import seaborn as sns\n",
    "import os\n",
    "import numpy as np\n",
    "import pandas as pd\n",
    "import scipy as sp\n",
    "from datetime import datetime\n",
    "import time\n",
    "import random\n",
    "import matplotlib.pyplot as plt\n",
    "from sklearn import preprocessing\n",
    "import pandas as pd\n",
    "# import pandas_profile\n",
    "import numpy as np\n",
    "import joblib\n",
    "from dateutil.relativedelta import relativedelta\n",
    "import warnings\n",
    "\n",
    "warnings.filterwarnings('ignore')\n",
    "\n",
    "InteractiveShell.ast_node_interactivity = \"all\"\n",
    "\n",
    "from tqdm import tnrange, tqdm_notebook"
   ]
  },
  {
   "cell_type": "code",
   "execution_count": 15,
   "metadata": {},
   "outputs": [],
   "source": [
    "from time import time"
   ]
  },
  {
   "cell_type": "code",
   "execution_count": 2,
   "metadata": {},
   "outputs": [],
   "source": [
    "# 解压数据集\n",
    "import zipfile"
   ]
  },
  {
   "cell_type": "code",
   "execution_count": 8,
   "metadata": {},
   "outputs": [],
   "source": [
    "with zipfile.ZipFile('Brent Crude.zip', 'r') as zip_f:\n",
    "    zip_f.extractall('./')"
   ]
  },
  {
   "cell_type": "code",
   "execution_count": 9,
   "metadata": {},
   "outputs": [
    {
     "name": "stdout",
     "output_type": "stream",
     "text": [
      "Brent Crude.zip    BrentOilPrices.csv LSTM_seq.ipynb\r\n"
     ]
    }
   ],
   "source": [
    "!ls"
   ]
  },
  {
   "cell_type": "markdown",
   "metadata": {},
   "source": [
    "# 了解数据总体情况"
   ]
  },
  {
   "cell_type": "code",
   "execution_count": 11,
   "metadata": {},
   "outputs": [
    {
     "data": {
      "text/html": [
       "<div>\n",
       "<style scoped>\n",
       "    .dataframe tbody tr th:only-of-type {\n",
       "        vertical-align: middle;\n",
       "    }\n",
       "\n",
       "    .dataframe tbody tr th {\n",
       "        vertical-align: top;\n",
       "    }\n",
       "\n",
       "    .dataframe thead th {\n",
       "        text-align: right;\n",
       "    }\n",
       "</style>\n",
       "<table border=\"1\" class=\"dataframe\">\n",
       "  <thead>\n",
       "    <tr style=\"text-align: right;\">\n",
       "      <th></th>\n",
       "      <th>Date</th>\n",
       "      <th>Price</th>\n",
       "    </tr>\n",
       "  </thead>\n",
       "  <tbody>\n",
       "    <tr>\n",
       "      <th>0</th>\n",
       "      <td>20-May-87</td>\n",
       "      <td>18.63</td>\n",
       "    </tr>\n",
       "    <tr>\n",
       "      <th>1</th>\n",
       "      <td>21-May-87</td>\n",
       "      <td>18.45</td>\n",
       "    </tr>\n",
       "    <tr>\n",
       "      <th>2</th>\n",
       "      <td>22-May-87</td>\n",
       "      <td>18.55</td>\n",
       "    </tr>\n",
       "  </tbody>\n",
       "</table>\n",
       "</div>"
      ],
      "text/plain": [
       "        Date  Price\n",
       "0  20-May-87  18.63\n",
       "1  21-May-87  18.45\n",
       "2  22-May-87  18.55"
      ]
     },
     "execution_count": 11,
     "metadata": {},
     "output_type": "execute_result"
    },
    {
     "data": {
      "text/plain": [
       "(8360, 2)"
      ]
     },
     "execution_count": 11,
     "metadata": {},
     "output_type": "execute_result"
    },
    {
     "name": "stdout",
     "output_type": "stream",
     "text": [
      "<class 'pandas.core.frame.DataFrame'>\n",
      "RangeIndex: 8360 entries, 0 to 8359\n",
      "Data columns (total 2 columns):\n",
      "Date     8360 non-null object\n",
      "Price    8360 non-null float64\n",
      "dtypes: float64(1), object(1)\n",
      "memory usage: 130.7+ KB\n"
     ]
    }
   ],
   "source": [
    "# 加载文件\n",
    "df = pd.read_csv('BrentOilPrices.csv')\n",
    "df.head(3)\n",
    "df.shape\n",
    "df.info()"
   ]
  },
  {
   "cell_type": "markdown",
   "metadata": {},
   "source": [
    "数据的总体情况  \n",
    "- shape为(8360, 2)\n",
    "- 两列分别为`Date`和`Price`"
   ]
  },
  {
   "cell_type": "code",
   "execution_count": null,
   "metadata": {},
   "outputs": [],
   "source": [
    "tmp.plot"
   ]
  },
  {
   "cell_type": "code",
   "execution_count": 23,
   "metadata": {},
   "outputs": [
    {
     "data": {
      "text/plain": [
       "<Figure size 1296x432 with 0 Axes>"
      ]
     },
     "execution_count": 23,
     "metadata": {},
     "output_type": "execute_result"
    },
    {
     "data": {
      "text/plain": [
       "[<matplotlib.lines.Line2D at 0x1a2c001da0>]"
      ]
     },
     "execution_count": 23,
     "metadata": {},
     "output_type": "execute_result"
    },
    {
     "data": {
      "image/png": "[encoded data removed]",
      "text/plain": [
       "<Figure size 1296x432 with 1 Axes>"
      ]
     },
     "metadata": {},
     "output_type": "display_data"
    }
   ],
   "source": [
    "tmp=df.head(100)\n",
    "plt.figure(figsize=(18, 6))\n",
    "plt.style.use('ggplot')\n",
    "plt.plot_date(tmp.Date, tmp.Price, xdate=True, linestyle='solid', marker=None)"
   ]
  },
  {
   "cell_type": "markdown",
   "metadata": {},
   "source": [
    "可以看到价格随着日期而发生波动"
   ]
  },
  {
   "cell_type": "markdown",
   "metadata": {},
   "source": [
    "# 背景了解"
   ]
  },
  {
   "cell_type": "markdown",
   "metadata": {},
   "source": [
    "## LSTM原理  \n",
    "lstm全称为**long short term memory network**，是反向传播并且克服了梯度消失问题的循环神经网络(recurrent network)，不同于传统的循环神经网络是基于神经元联接，`LSTM`层与层之间是通过`memory block`进行连接。  \n",
    "一个`block`里面有多个gate来控制开关，包括：\n",
    "- Forget Gate: conditionally decides what information to throw away from the block.  \n",
    "- Input Gate: conditionally decides which values from the input to update the memory state.  \n",
    "- Output Gate: conditionally decides what to output based on input and the memory of the block.  \n",
    "\n",
    "本质上是根据输入信息，block结合当前的state可以智能地判断是否用input的哪些信息进行更新，然后对应更新和保留当前的状态"
   ]
  },
  {
   "cell_type": "markdown",
   "metadata": {},
   "source": [
    "每个`gate`都是一个一个`sigmoid activation`，新的`input`是一个sequence，input流入到block中，block根据输入，决定添加哪些信息并更新状态"
   ]
  },
  {
   "cell_type": "markdown",
   "metadata": {},
   "source": [
    "## 问题解析\n",
    "这个问题本质上可以转化为工程问题，也就是生成两列，一列是上个月的数据，一列是本月，根据上个月的数据预测下个月的数据"
   ]
  },
  {
   "cell_type": "markdown",
   "metadata": {},
   "source": [
    "# 数据处理部分"
   ]
  },
  {
   "cell_type": "markdown",
   "metadata": {},
   "source": [
    "- 导入数据\n",
    "- 数据缩放\n",
    "- 划分训练集和测试集\n",
    "- 构建`lstm`指定的数据结构"
   ]
  },
  {
   "cell_type": "code",
   "execution_count": 81,
   "metadata": {},
   "outputs": [
    {
     "name": "stderr",
     "output_type": "stream",
     "text": [
      "Using TensorFlow backend.\n"
     ]
    }
   ],
   "source": [
    "# 先导入数据\n",
    "from keras.models import Sequential\n",
    "from keras.layers import Dense\n",
    "from keras.layers import LSTM"
   ]
  },
  {
   "cell_type": "code",
   "execution_count": 25,
   "metadata": {},
   "outputs": [],
   "source": [
    "# 设置随机种子\n",
    "np.random.seed(2020)"
   ]
  },
  {
   "cell_type": "code",
   "execution_count": 26,
   "metadata": {},
   "outputs": [],
   "source": [
    "from sklearn.preprocessing import MinMaxScaler\n",
    "from sklearn.metrics import mean_squared_error"
   ]
  },
  {
   "cell_type": "code",
   "execution_count": 32,
   "metadata": {},
   "outputs": [],
   "source": [
    "?MinMaxScaler.fit"
   ]
  },
  {
   "cell_type": "code",
   "execution_count": 34,
   "metadata": {},
   "outputs": [
    {
     "data": {
      "text/plain": [
       "(8360,)"
      ]
     },
     "execution_count": 34,
     "metadata": {},
     "output_type": "execute_result"
    }
   ],
   "source": [
    "df['Price'].values.shape"
   ]
  },
  {
   "cell_type": "code",
   "execution_count": 36,
   "metadata": {},
   "outputs": [
    {
     "data": {
      "text/plain": [
       "(8360, 1)"
      ]
     },
     "execution_count": 36,
     "metadata": {},
     "output_type": "execute_result"
    }
   ],
   "source": [
    "df['Price'].values.reshape(-1,1).shape"
   ]
  },
  {
   "cell_type": "code",
   "execution_count": 37,
   "metadata": {},
   "outputs": [
    {
     "data": {
      "text/plain": [
       "MinMaxScaler(copy=True, feature_range=(0, 1))"
      ]
     },
     "execution_count": 37,
     "metadata": {},
     "output_type": "execute_result"
    }
   ],
   "source": [
    "# 数据缩放, LSTM里面的激活函数`sigmoid`和`tanh`函数对数据的量级很敏感，因此在进入模型之前需要先进行归一化\n",
    "price_value = df['Price'].values.reshape(-1,1)\n",
    "\n",
    "scaler = MinMaxScaler()\n",
    "scaler.fit(price_value)\n",
    "\n",
    "scale_price = scaler.transform(price_value)\n"
   ]
  },
  {
   "cell_type": "code",
   "execution_count": 39,
   "metadata": {},
   "outputs": [
    {
     "data": {
      "text/plain": [
       "array([1.])"
      ]
     },
     "execution_count": 39,
     "metadata": {},
     "output_type": "execute_result"
    },
    {
     "data": {
      "text/plain": [
       "array([0.])"
      ]
     },
     "execution_count": 39,
     "metadata": {},
     "output_type": "execute_result"
    }
   ],
   "source": [
    "max(scale_price)\n",
    "min(scale_price)"
   ]
  },
  {
   "cell_type": "code",
   "execution_count": 40,
   "metadata": {},
   "outputs": [],
   "source": [
    "# 划分数据集，按照时序划分\n",
    "train_size = int(len(scale_price)*0.67)\n",
    "test_size = len(scale_price) - train_size\n",
    "\n",
    "train_data = scale_price[:train_size]\n",
    "test_data = scale_price[train_size:]"
   ]
  },
  {
   "cell_type": "code",
   "execution_count": 41,
   "metadata": {},
   "outputs": [
    {
     "data": {
      "text/plain": [
       "(5601, 1)"
      ]
     },
     "execution_count": 41,
     "metadata": {},
     "output_type": "execute_result"
    },
    {
     "data": {
      "text/plain": [
       "(2759, 1)"
      ]
     },
     "execution_count": 41,
     "metadata": {},
     "output_type": "execute_result"
    }
   ],
   "source": [
    "train_data.shape\n",
    "test_data.shape"
   ]
  },
  {
   "cell_type": "code",
   "execution_count": 49,
   "metadata": {},
   "outputs": [
    {
     "data": {
      "text/plain": [
       "array([0.0693363 , 0.07007786, 0.07044865])"
      ]
     },
     "execution_count": 49,
     "metadata": {},
     "output_type": "execute_result"
    }
   ],
   "source": [
    "train_data[1:4,0]"
   ]
  },
  {
   "cell_type": "markdown",
   "metadata": {},
   "source": [
    "`lstm`接受的数据结构是`(n_samples, n_time_step, n_features)`这样的数据结构，第一个是样本数量，相当于是记录行数；第二个是时间步，也就是用多大的时间窗口来预测未来，第三个就是每个时间节点可以观测到的变量维度"
   ]
  },
  {
   "cell_type": "code",
   "execution_count": 73,
   "metadata": {},
   "outputs": [],
   "source": [
    "def get_look_back_data(dataset, lookback = 1):\n",
    "    # 指定窗口的大小lookback，返回对应的X和Y\n",
    "    X = []\n",
    "    Y = []\n",
    "    for i in range(len(dataset) - lookback -1): #在最后只能生成这么多个数据，可以想象下时间窗口滑到最后，最终预测值个数为1，加上窗口大小为lookback，因此index i只用到达len(dataset) - lookback -1即可\n",
    "        a = dataset[i:(i+lookback), 0] \n",
    "        b = dataset[i+lookback, 0]\n",
    "        \n",
    "        X.append(a)\n",
    "        Y.append(b)\n",
    "    return np.array(X), np.array(Y)\n"
   ]
  },
  {
   "cell_type": "code",
   "execution_count": 85,
   "metadata": {},
   "outputs": [],
   "source": [
    "lookback = 3"
   ]
  },
  {
   "cell_type": "code",
   "execution_count": 101,
   "metadata": {},
   "outputs": [],
   "source": [
    "X_train, y_train = get_look_back_data(train_data, lookback)\n",
    "X_test, y_test = get_look_back_data(test_data, lookback)"
   ]
  },
  {
   "cell_type": "code",
   "execution_count": 77,
   "metadata": {},
   "outputs": [],
   "source": [
    "# 目前数据是[n_samples, n_time_step]的形式，我们把数据整理成[n_samples, n_time_step, n_features]的形式\n",
    "X_train_nw = np.reshape(X_train, (X_train.shape[0], 3, 1))\n",
    "X_test_nw = np.reshape(X_test, (X_test.shape[0], 3, 1))"
   ]
  },
  {
   "cell_type": "markdown",
   "metadata": {},
   "source": [
    "# 训练模型"
   ]
  },
  {
   "cell_type": "markdown",
   "metadata": {},
   "source": [
    "添加一层`LSTM`，这一层里面有一个unit，输入的数据`input_shape=(lookback, 1)`，后面加入一个紧密层作为输出"
   ]
  },
  {
   "cell_type": "code",
   "execution_count": 84,
   "metadata": {},
   "outputs": [],
   "source": [
    "?LSTM"
   ]
  },
  {
   "cell_type": "code",
   "execution_count": 89,
   "metadata": {},
   "outputs": [
    {
     "data": {
      "text/plain": [
       "(5597, 3)"
      ]
     },
     "execution_count": 89,
     "metadata": {},
     "output_type": "execute_result"
    }
   ],
   "source": [
    "X_train.shape"
   ]
  },
  {
   "cell_type": "code",
   "execution_count": 93,
   "metadata": {},
   "outputs": [
    {
     "name": "stdout",
     "output_type": "stream",
     "text": [
      "Epoch 1/20\n",
      " - 10s - loss: 0.0020\n",
      "Epoch 2/20\n",
      " - 10s - loss: 1.2177e-04\n",
      "Epoch 3/20\n",
      " - 10s - loss: 1.0873e-04\n",
      "Epoch 4/20\n",
      " - 10s - loss: 1.0836e-04\n",
      "Epoch 5/20\n",
      " - 10s - loss: 1.0323e-04\n",
      "Epoch 6/20\n",
      " - 10s - loss: 1.0405e-04\n",
      "Epoch 7/20\n",
      " - 10s - loss: 9.9239e-05\n",
      "Epoch 8/20\n",
      " - 10s - loss: 9.8777e-05\n",
      "Epoch 9/20\n",
      " - 10s - loss: 9.6002e-05\n",
      "Epoch 10/20\n",
      " - 10s - loss: 9.5986e-05\n",
      "Epoch 11/20\n",
      " - 10s - loss: 9.1002e-05\n",
      "Epoch 12/20\n",
      " - 11s - loss: 9.0784e-05\n",
      "Epoch 13/20\n",
      " - 12s - loss: 8.7833e-05\n",
      "Epoch 14/20\n",
      " - 10s - loss: 8.5118e-05\n",
      "Epoch 15/20\n",
      " - 10s - loss: 8.3535e-05\n",
      "Epoch 16/20\n",
      " - 11s - loss: 8.4331e-05\n",
      "Epoch 17/20\n",
      " - 10s - loss: 8.0457e-05\n",
      "Epoch 18/20\n",
      " - 11s - loss: 7.9710e-05\n",
      "Epoch 19/20\n",
      " - 10s - loss: 7.8332e-05\n",
      "Epoch 20/20\n",
      " - 9s - loss: 7.6108e-05\n"
     ]
    },
    {
     "data": {
      "text/plain": [
       "<keras.callbacks.callbacks.History at 0x1a4cf30a20>"
      ]
     },
     "execution_count": 93,
     "metadata": {},
     "output_type": "execute_result"
    }
   ],
   "source": [
    "# 构建模型整体结构\n",
    "model = Sequential()\n",
    "model.add(LSTM(units=1, input_shape=(lookback,1)))\n",
    "model.add(Dense(1))\n",
    "model.compile(loss='mean_squared_error', optimizer='adam')\n",
    "model.fit(X_train_nw, y_train,epochs=20, batch_size=1, verbose=2)"
   ]
  },
  {
   "cell_type": "code",
   "execution_count": 96,
   "metadata": {},
   "outputs": [],
   "source": [
    "import math"
   ]
  },
  {
   "cell_type": "code",
   "execution_count": 106,
   "metadata": {},
   "outputs": [],
   "source": [
    "y_train = y_train.reshape(y_train.shape[0],1)\n",
    "y_test = y_test.reshape(y_test.shape[0],1)"
   ]
  },
  {
   "cell_type": "code",
   "execution_count": 110,
   "metadata": {},
   "outputs": [
    {
     "name": "stdout",
     "output_type": "stream",
     "text": [
      "Train Score: 1.28 RMSE\n",
      "Test Score: 81.07 RMSE\n"
     ]
    }
   ],
   "source": [
    "# make predictions\n",
    "trainPredict = model.predict(X_train_nw)\n",
    "testPredict = model.predict(X_test_nw)\n",
    "# invert predictions\n",
    "trainPredict = scaler.inverse_transform(trainPredict)\n",
    "y_train = scaler.inverse_transform(y_train)\n",
    "testPredict = scaler.inverse_transform(testPredict)\n",
    "testY = scaler.inverse_transform(y_test)\n",
    "# calculate root mean squared error\n",
    "trainScore = math.sqrt(mean_squared_error(y_train[:, 0], trainPredict[:,0]))\n",
    "print('Train Score: %.2f RMSE' % (trainScore))\n",
    "testScore = math.sqrt(mean_squared_error(y_test[:, 0], testPredict[:,0]))\n",
    "print('Test Score: %.2f RMSE' % (testScore))"
   ]
  },
  {
   "cell_type": "code",
   "execution_count": 114,
   "metadata": {},
   "outputs": [
    {
     "data": {
      "text/plain": [
       "<Figure size 1296x432 with 0 Axes>"
      ]
     },
     "execution_count": 114,
     "metadata": {},
     "output_type": "execute_result"
    },
    {
     "data": {
      "text/plain": [
       "[<matplotlib.lines.Line2D at 0x1a4d20db38>]"
      ]
     },
     "execution_count": 114,
     "metadata": {},
     "output_type": "execute_result"
    },
    {
     "data": {
      "text/plain": [
       "[<matplotlib.lines.Line2D at 0x1a4cdf4c50>]"
      ]
     },
     "execution_count": 114,
     "metadata": {},
     "output_type": "execute_result"
    },
    {
     "data": {
      "text/plain": [
       "[<matplotlib.lines.Line2D at 0x1a4d2d3208>]"
      ]
     },
     "execution_count": 114,
     "metadata": {},
     "output_type": "execute_result"
    },
    {
     "data": {
      "image/png": "[encoded data removed]",
      "text/plain": [
       "<Figure size 1296x432 with 1 Axes>"
      ]
     },
     "metadata": {},
     "output_type": "display_data"
    }
   ],
   "source": [
    "plt.figure(figsize=(18, 6))\n",
    "# shift train predictions for plotting\n",
    "trainPredictPlot = np.empty_like(scale_price)\n",
    "trainPredictPlot[:, :] = np.nan\n",
    "trainPredictPlot[lookback:len(trainPredict)+lookback, :] = trainPredict\n",
    "# shift test predictions for plotting\n",
    "testPredictPlot = np.empty_like(scale_price)\n",
    "testPredictPlot[:, :] = np.nan\n",
    "testPredictPlot[len(trainPredict)+(lookback*2)+1:len(scale_price)-1, :] = testPredict\n",
    "# plot baseline and predictions\n",
    "plt.plot(scaler.inverse_transform(scale_price))\n",
    "plt.plot(trainPredictPlot)\n",
    "plt.plot(testPredictPlot)\n",
    "plt.show()"
   ]
  },
  {
   "cell_type": "markdown",
   "metadata": {},
   "source": [
    "# 学习总结"
   ]
  },
  {
   "cell_type": "markdown",
   "metadata": {},
   "source": [
    "## 编程技术\n",
    "- `zip`的解压方法\n",
    "- 对最终绘制结果图和预测图的代码学习\n",
    "\n",
    "## 原理\n",
    "- `lstm`接受的数据结构是`(n_samples, n_time_step, n_features)`这样的数据结构，第一个是样本数量，相当于是记录行数；第二个是时间步，也就是用多大的时间窗口来预测未来，第三个就是每个时间节点可以观测到的变量维度\n",
    "- 在`lstm`当中`input_shape`为`(3, 2)`分别代表着`(n_time_step, n_features)`前者是代表观测窗口有多大，有多少个值；后者代表有多少个特征\n",
    "\n",
    "## 回顾一些基本概念\n",
    "- `batch_size`是每次喂入模型的样本量，1个`epoch`为遍历完所有样本的一个round"
   ]
  },
  {
   "cell_type": "markdown",
   "metadata": {},
   "source": [
    "## 编程心得\n",
    "- 要在表头就列清楚一些基本信息，就算不看代码也可以得到**背景知识**，**采取的过程**，**参数**和对应的**结论**"
   ]
  },
  {
   "cell_type": "markdown",
   "metadata": {},
   "source": [
    "# 进一步学习\n",
    "- 查看LSTM的源代码"
   ]
  },
  {
   "cell_type": "markdown",
   "metadata": {},
   "source": [
    "# 参考资料\n",
    "- [Brent Oil Prices | Kaggle](https://www.kaggle.com/mabusalah/brent-oil-prices/kernels)\n",
    "- [Time Series Prediction with LSTM Recurrent Neural Networks in Python with Keras](https://machinelearningmastery.com/time-series-prediction-lstm-recurrent-neural-networks-python-keras/)\n",
    "- [How to Reshape Input Data for Long Short-Term Memory Networks in Keras](https://machinelearningmastery.com/reshape-input-data-long-short-term-memory-networks-keras/)"
   ]
  }
 ],
 "metadata": {
  "kernelspec": {
   "display_name": "Python 3",
   "language": "python",
   "name": "python3"
  },
  "language_info": {
   "codemirror_mode": {
    "name": "ipython",
    "version": 3
   },
   "file_extension": ".py",
   "mimetype": "text/x-python",
   "name": "python",
   "nbconvert_exporter": "python",
   "pygments_lexer": "ipython3",
   "version": "3.7.3"
  },
  "toc": {
   "base_numbering": 1,
   "nav_menu": {},
   "number_sections": true,
   "sideBar": true,
   "skip_h1_title": false,
   "title_cell": "Table of Contents",
   "title_sidebar": "Contents",
   "toc_cell": false,
   "toc_position": {},
   "toc_section_display": true,
   "toc_window_display": false
  }
 },
 "nbformat": 4,
 "nbformat_minor": 2
}
